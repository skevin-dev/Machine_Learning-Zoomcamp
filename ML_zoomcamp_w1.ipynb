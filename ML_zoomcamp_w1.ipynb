{
  "cells": [
    {
      "cell_type": "markdown",
      "metadata": {
        "id": "view-in-github",
        "colab_type": "text"
      },
      "source": [
        "<a href=\"https://colab.research.google.com/github/skevin-dev/Machine_Learning-Zoomcamp/blob/Week1/ML_zoomcamp_w1.ipynb\" target=\"_parent\"><img src=\"https://colab.research.google.com/assets/colab-badge.svg\" alt=\"Open In Colab\"/></a>"
      ]
    },
    {
      "cell_type": "code",
      "execution_count": 1,
      "metadata": {
        "id": "5o8lbF3D0wgl"
      },
      "outputs": [],
      "source": [
        "import numpy as np\n",
        "import pandas as pd\n",
        "import statistics as st"
      ]
    },
    {
      "cell_type": "markdown",
      "source": [
        "## Question 1"
      ],
      "metadata": {
        "id": "QTlVA3WoYsdI"
      }
    },
    {
      "cell_type": "code",
      "execution_count": 2,
      "metadata": {
        "colab": {
          "base_uri": "https://localhost:8080/",
          "height": 35
        },
        "id": "UOPmzNZ92q1G",
        "outputId": "5a758271-5eda-4d65-dd94-4c3f6553f5dd"
      },
      "outputs": [
        {
          "output_type": "execute_result",
          "data": {
            "text/plain": [
              "'1.5.3'"
            ],
            "application/vnd.google.colaboratory.intrinsic+json": {
              "type": "string"
            }
          },
          "metadata": {},
          "execution_count": 2
        }
      ],
      "source": [
        "pd.__version__"
      ]
    },
    {
      "cell_type": "markdown",
      "source": [
        "## Question 2"
      ],
      "metadata": {
        "id": "Jn1o9tRtYzyn"
      }
    },
    {
      "cell_type": "markdown",
      "source": [
        "###### the dataset was downloaded manually"
      ],
      "metadata": {
        "id": "DAyQwxWGUeTI"
      }
    },
    {
      "cell_type": "code",
      "source": [
        "df = pd.read_csv('data.csv')"
      ],
      "metadata": {
        "id": "Iwv77YZ45jNA"
      },
      "execution_count": 3,
      "outputs": []
    },
    {
      "cell_type": "code",
      "source": [
        "print(f'the number of columns in the dataset is {df.shape[1]}')"
      ],
      "metadata": {
        "colab": {
          "base_uri": "https://localhost:8080/"
        },
        "id": "DGsunBrZ5shJ",
        "outputId": "9ca1a08e-d6e5-4d0c-c55e-3cd045f09aee"
      },
      "execution_count": 4,
      "outputs": [
        {
          "output_type": "stream",
          "name": "stdout",
          "text": [
            "the number of columns in the dataset is 10\n"
          ]
        }
      ]
    },
    {
      "cell_type": "code",
      "source": [
        "df.columns"
      ],
      "metadata": {
        "colab": {
          "base_uri": "https://localhost:8080/"
        },
        "id": "D0Qrb7r76bNV",
        "outputId": "d8dac02f-bc08-4fdd-ec39-e6d0d4b633dd"
      },
      "execution_count": 26,
      "outputs": [
        {
          "output_type": "execute_result",
          "data": {
            "text/plain": [
              "Index(['longitude', 'latitude', 'housing_median_age', 'total_rooms',\n",
              "       'total_bedrooms', 'population', 'households', 'median_income',\n",
              "       'median_house_value', 'ocean_proximity'],\n",
              "      dtype='object')"
            ]
          },
          "metadata": {},
          "execution_count": 26
        }
      ]
    },
    {
      "cell_type": "markdown",
      "source": [
        "## Question 3"
      ],
      "metadata": {
        "id": "RZHA9Ju6Y5ke"
      }
    },
    {
      "cell_type": "code",
      "source": [
        "df.isna().sum()"
      ],
      "metadata": {
        "colab": {
          "base_uri": "https://localhost:8080/"
        },
        "id": "ntuySXIp50nI",
        "outputId": "8605ef9e-4e1e-43a6-8a05-cfcc9e426ddf"
      },
      "execution_count": 10,
      "outputs": [
        {
          "output_type": "execute_result",
          "data": {
            "text/plain": [
              "longitude               0\n",
              "latitude                0\n",
              "housing_median_age      0\n",
              "total_rooms             0\n",
              "total_bedrooms        207\n",
              "population              0\n",
              "households              0\n",
              "median_income           0\n",
              "median_house_value      0\n",
              "ocean_proximity         0\n",
              "dtype: int64"
            ]
          },
          "metadata": {},
          "execution_count": 10
        }
      ]
    },
    {
      "cell_type": "markdown",
      "source": [
        "## Question 4"
      ],
      "metadata": {
        "id": "TCO9zbJrVVd8"
      }
    },
    {
      "cell_type": "code",
      "source": [
        "print('the unique values in ocean proximity column are {}'.format(len(list(df['ocean_proximity'].unique()))))\n"
      ],
      "metadata": {
        "colab": {
          "base_uri": "https://localhost:8080/"
        },
        "id": "wkBiUnTAVYP2",
        "outputId": "fa16957b-649e-4e94-8251-111b23c7041b"
      },
      "execution_count": 15,
      "outputs": [
        {
          "output_type": "stream",
          "name": "stdout",
          "text": [
            "the unique values in ocean proximity column are 5\n"
          ]
        }
      ]
    },
    {
      "cell_type": "markdown",
      "source": [
        "## Question 5"
      ],
      "metadata": {
        "id": "G5RcEnLYY-m8"
      }
    },
    {
      "cell_type": "code",
      "source": [
        "print('the average value of the median house value for the houses located near the bay is {}'.format(df[df['ocean_proximity']=='NEAR BAY']['median_house_value'].mean()))"
      ],
      "metadata": {
        "colab": {
          "base_uri": "https://localhost:8080/"
        },
        "id": "3V1fwEXU6eCN",
        "outputId": "f79dfcb4-6772-47c0-8293-f6a8883c9f10"
      },
      "execution_count": 21,
      "outputs": [
        {
          "output_type": "stream",
          "name": "stdout",
          "text": [
            "the average value of the median house value for the houses located near the bay is 259212.31179039303\n"
          ]
        }
      ]
    },
    {
      "cell_type": "markdown",
      "source": [
        "## Question 6"
      ],
      "metadata": {
        "id": "FTx2khfDX40Z"
      }
    },
    {
      "cell_type": "code",
      "source": [
        "print('the average of total bedrooms column in the dataset is {}'.format(df['total_bedrooms'].mean()))\n",
        "\n",
        "df.fillna(df['total_bedrooms'].mean(),inplace=True)\n",
        "\n",
        "print('Filled nan values')\n",
        "\n",
        "print('the average of total bedrooms column in the dataset after filling nan is {}'.format(df['total_bedrooms'].mean()))\n",
        "\n"
      ],
      "metadata": {
        "colab": {
          "base_uri": "https://localhost:8080/"
        },
        "id": "SUqnx-JbWrSE",
        "outputId": "248a204d-904d-49d0-f336-74a075743ea3"
      },
      "execution_count": 45,
      "outputs": [
        {
          "output_type": "stream",
          "name": "stdout",
          "text": [
            "the average of total bedrooms column in the dataset is 537.8705525375617\n",
            "Filled nan values\n",
            "the average of total bedrooms column in the dataset after filling nan is 537.8705525375617\n"
          ]
        }
      ]
    },
    {
      "cell_type": "markdown",
      "source": [
        "#### Nothing changed"
      ],
      "metadata": {
        "id": "A8kAAOTSZyGY"
      }
    },
    {
      "cell_type": "markdown",
      "source": [
        "### there is no change"
      ],
      "metadata": {
        "id": "D1d5JDXVTR_t"
      }
    },
    {
      "cell_type": "markdown",
      "source": [
        "## Question 7"
      ],
      "metadata": {
        "id": "gBSg-C8iZTVD"
      }
    },
    {
      "cell_type": "code",
      "source": [
        "df['ocean_proximity'].unique()"
      ],
      "metadata": {
        "colab": {
          "base_uri": "https://localhost:8080/"
        },
        "id": "tAm_gfIMaMIS",
        "outputId": "e9dda0d4-812c-4fef-f320-b74313aac823"
      },
      "execution_count": 28,
      "outputs": [
        {
          "output_type": "execute_result",
          "data": {
            "text/plain": [
              "array(['NEAR BAY', '<1H OCEAN', 'INLAND', 'NEAR OCEAN', 'ISLAND'],\n",
              "      dtype=object)"
            ]
          },
          "metadata": {},
          "execution_count": 28
        }
      ]
    },
    {
      "cell_type": "code",
      "source": [
        "df_island = df[df['ocean_proximity']=='ISLAND'][['housing_median_age','total_rooms','total_bedrooms']]"
      ],
      "metadata": {
        "id": "iRReuocRTd8L"
      },
      "execution_count": 29,
      "outputs": []
    },
    {
      "cell_type": "code",
      "source": [
        "X = df_island.values"
      ],
      "metadata": {
        "id": "JIX7mfmkTjVH"
      },
      "execution_count": 31,
      "outputs": []
    },
    {
      "cell_type": "code",
      "source": [
        "XTX = X.T @ X"
      ],
      "metadata": {
        "id": "1bkDuwJrWUFo"
      },
      "execution_count": 32,
      "outputs": []
    },
    {
      "cell_type": "code",
      "source": [
        "inverse_XTX = np.linalg.inv(XTX)"
      ],
      "metadata": {
        "id": "miZg_51rWw-f"
      },
      "execution_count": 33,
      "outputs": []
    },
    {
      "cell_type": "code",
      "source": [
        "y = [950,1300,800,1000,1300]"
      ],
      "metadata": {
        "id": "evyDm23FXcnV"
      },
      "execution_count": 34,
      "outputs": []
    },
    {
      "cell_type": "code",
      "source": [
        "inverse_XTX_X  = inverse_XTX @ X.T"
      ],
      "metadata": {
        "id": "Kl3uS6NUYV6W"
      },
      "execution_count": 35,
      "outputs": []
    },
    {
      "cell_type": "code",
      "source": [
        "w = inverse_XTX_X @ y"
      ],
      "metadata": {
        "id": "xqW_n0XKYfki"
      },
      "execution_count": 36,
      "outputs": []
    },
    {
      "cell_type": "code",
      "source": [
        "w"
      ],
      "metadata": {
        "colab": {
          "base_uri": "https://localhost:8080/"
        },
        "id": "y7kgbLPZbSFA",
        "outputId": "80a4ea30-4e5e-41e2-936a-bd58b46c7b2d"
      },
      "execution_count": 37,
      "outputs": [
        {
          "output_type": "execute_result",
          "data": {
            "text/plain": [
              "array([23.12330961, -1.48124183,  5.69922946])"
            ]
          },
          "metadata": {},
          "execution_count": 37
        }
      ]
    },
    {
      "cell_type": "code",
      "source": [
        "print('the last value of w is {}'.format(round(w[-1:][0],4)))"
      ],
      "metadata": {
        "colab": {
          "base_uri": "https://localhost:8080/"
        },
        "id": "gSa54imyYjjY",
        "outputId": "76d69c8e-c289-4b2a-f09d-699db953ebc7"
      },
      "execution_count": 43,
      "outputs": [
        {
          "output_type": "stream",
          "name": "stdout",
          "text": [
            "the last value of w is 5.6992\n"
          ]
        }
      ]
    },
    {
      "cell_type": "code",
      "source": [],
      "metadata": {
        "id": "OVvVbLnCbVJf"
      },
      "execution_count": null,
      "outputs": []
    }
  ],
  "metadata": {
    "colab": {
      "provenance": [],
      "authorship_tag": "ABX9TyPgSzxUNKip+k6M9C/BY2JY",
      "include_colab_link": true
    },
    "kernelspec": {
      "display_name": "Python 3",
      "name": "python3"
    },
    "language_info": {
      "name": "python"
    }
  },
  "nbformat": 4,
  "nbformat_minor": 0
}